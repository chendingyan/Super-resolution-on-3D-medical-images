{
 "cells": [
  {
   "cell_type": "code",
   "execution_count": null,
   "metadata": {},
   "outputs": [],
   "source": [
    "if FLAGS.mode == 'train':\n",
    "    # load data and pre-process the data\n",
    "    # create network, remember the function SRGAN(inputs,targets,FLAGS)\n",
    "    # train it use MSE loss(previous method) or perceptual loss(the method in this dissertation)\n",
    "    if loss == 'MSE':\n",
    "        # define a loss function\n",
    "    else \n",
    "        # define VGG loss function\n",
    "    # perform training\n",
    "    for step in range(max_iteration):\n",
    "        # save results\n",
    "        results = sess.run(current_configuration);\n",
    "        # save pre-trained model in checkpoint\n",
    "        saver.save(sess, os.path.join(FLAGS.output_dir, 'model'))\n",
    "elif FLAGS.mode == \"test\"\n",
    "    # declare the test data reader and read test image\n",
    "    # declare the network\n",
    "    # load pre-trained model\n",
    "    weight_initializer.restore(sess, FLAGS.checkpoint)\n",
    "    # start running\n",
    "    for i in range(max_iteration):\n",
    "        results = sess.run(current_configuration)\n",
    "        save_image = save_images(results, FLAGS)\n",
    "    "
   ]
  }
 ],
 "metadata": {
  "kernelspec": {
   "display_name": "Python 2",
   "language": "python",
   "name": "python2"
  },
  "language_info": {
   "codemirror_mode": {
    "name": "ipython",
    "version": 2
   },
   "file_extension": ".py",
   "mimetype": "text/x-python",
   "name": "python",
   "nbconvert_exporter": "python",
   "pygments_lexer": "ipython2",
   "version": "2.7.14"
  }
 },
 "nbformat": 4,
 "nbformat_minor": 2
}
